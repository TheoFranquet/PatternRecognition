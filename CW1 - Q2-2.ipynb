{
 "cells": [
  {
   "cell_type": "code",
   "execution_count": 17,
   "metadata": {},
   "outputs": [
    {
     "name": "stdout",
     "output_type": "stream",
     "text": [
      "The autoreload extension is already loaded. To reload it, use:\n",
      "  %reload_ext autoreload\n"
     ]
    }
   ],
   "source": [
    "# for auto-reloading external modules\n",
    "# see http://stackoverflow.com/questions/1907993/autoreload-of-modules-in-ipython\n",
    "%load_ext autoreload\n",
    "%autoreload 2"
   ]
  },
  {
   "cell_type": "code",
   "execution_count": 27,
   "metadata": {},
   "outputs": [],
   "source": [
    "import numpy as np\n",
    "from sklearn.model_selection import train_test_split\n",
    "from utilities import load_face_data\n",
    "import matplotlib.pyplot as plt\n",
    "%matplotlib inline"
   ]
  },
  {
   "cell_type": "code",
   "execution_count": 20,
   "metadata": {},
   "outputs": [],
   "source": [
    "faces, labels = load_face_data('face.mat')\n",
    "face_train, face_test, label_train, label_test = train_test_split(faces, labels, test_size=0.3)"
   ]
  },
  {
   "cell_type": "code",
   "execution_count": 24,
   "metadata": {},
   "outputs": [],
   "source": [
    "classes = np.unique(label_train)\n",
    "within_scatter_matrix = np.zeros((face_train.shape[1], face_train.shape[1]))\n",
    "between_scatter_matrix = np.zeros((face_train.shape[1], face_train.shape[1]))\n",
    "\n",
    "overall_mean = np.mean(face_train, axis = 0)\n",
    "for cls in classes:\n",
    "    class_points = face_train[label_train == cls]\n",
    "    n = len(class_points)\n",
    "    \n",
    "    mean_class = np.mean(class_points, axis = 0)\n",
    "    \n",
    "    sub = class_points - mean_class\n",
    "    mean_d = overall_mean - mean_class\n",
    "    \n",
    "    within_scatter_matrix += np.dot(sub.T, sub)\n",
    "    between_scatter_matrix += n * np.outer(mean_d, mean_d)"
   ]
  },
  {
   "cell_type": "code",
   "execution_count": 90,
   "metadata": {},
   "outputs": [],
   "source": [
    "# eig_vals, eig_vecs = np.linalg.eig(\n",
    "#     np.dot(\n",
    "#         np.linalg.inv(within_scatter_matrix), \n",
    "#         between_scatter_matrix\n",
    "#     )\n",
    "# )\n",
    "\n",
    "U, eig_vals, eig_vecs = np.linalg.svd(np.dot(\n",
    "        np.linalg.inv(within_scatter_matrix), \n",
    "        between_scatter_matrix\n",
    "    ), full_matrices=True) "
   ]
  },
  {
   "cell_type": "code",
   "execution_count": 91,
   "metadata": {},
   "outputs": [
    {
     "data": {
      "text/plain": [
       "[<matplotlib.lines.Line2D at 0x1d263fe3be0>]"
      ]
     },
     "execution_count": 91,
     "metadata": {},
     "output_type": "execute_result"
    },
    {
     "data": {
      "image/png": "[encoded data removed]",
      "text/plain": [
       "<matplotlib.figure.Figure at 0x1d2590be2b0>"
      ]
     },
     "metadata": {},
     "output_type": "display_data"
    }
   ],
   "source": [
    "ev = np.abs(eig_vals)\n",
    "plt.plot(np.arange(len(ev)), np.cumsum(ev) / np.sum(ev))"
   ]
  },
  {
   "cell_type": "code",
   "execution_count": 92,
   "metadata": {},
   "outputs": [
    {
     "name": "stdout",
     "output_type": "stream",
     "text": [
      "(18, 2576)\n"
     ]
    }
   ],
   "source": [
    "number_ev = np.sum(np.cumsum(ev) / np.sum(ev) < 0.95) # find number of evals s.t. 95% of total variance is kept\n",
    "eigenvector_W = eig_vecs[:number_ev]\n",
    "print(eigenvector_W.shape)"
   ]
  },
  {
   "cell_type": "code",
   "execution_count": 93,
   "metadata": {},
   "outputs": [
    {
     "name": "stdout",
     "output_type": "stream",
     "text": [
      "train dims: (364, 18), test dims: (156, 18)\n"
     ]
    }
   ],
   "source": [
    "projected_training_set = np.dot(face_train, eigenvector_W.T)\n",
    "projected_test_set = np.dot(face_test, eigenvector_W.T)\n",
    "print('train dims: {}, test dims: {}'.format(projected_training_set.shape, projected_test_set.shape))"
   ]
  },
  {
   "cell_type": "code",
   "execution_count": 94,
   "metadata": {},
   "outputs": [
    {
     "data": {
      "text/plain": [
       "<matplotlib.collections.PathCollection at 0x1d2000396a0>"
      ]
     },
     "execution_count": 94,
     "metadata": {},
     "output_type": "execute_result"
    },
    {
     "data": {
      "image/png": "[encoded data removed]",
      "text/plain": [
       "<matplotlib.figure.Figure at 0x1d2590b10f0>"
      ]
     },
     "metadata": {},
     "output_type": "display_data"
    }
   ],
   "source": [
    "selector = np.logical_or(label_train == 2, label_train == 3)\n",
    "plt.scatter(projected_training_set[selector, 0], projected_training_set[selector, 1], c = label_train[selector])"
   ]
  },
  {
   "cell_type": "code",
   "execution_count": 95,
   "metadata": {},
   "outputs": [
    {
     "data": {
      "text/plain": [
       "<matplotlib.collections.PathCollection at 0x1d20009c550>"
      ]
     },
     "execution_count": 95,
     "metadata": {},
     "output_type": "execute_result"
    },
    {
     "data": {
      "image/png": "[encoded data removed]",
      "text/plain": [
       "<matplotlib.figure.Figure at 0x1d25908dcc0>"
      ]
     },
     "metadata": {},
     "output_type": "display_data"
    }
   ],
   "source": [
    "plt.scatter(face_train[selector, 0], face_train[selector, 1], c = label_train[selector])"
   ]
  },
  {
   "cell_type": "code",
   "execution_count": 103,
   "metadata": {},
   "outputs": [
    {
     "data": {
      "text/plain": [
       "<matplotlib.image.AxesImage at 0x1d200318400>"
      ]
     },
     "execution_count": 103,
     "metadata": {},
     "output_type": "execute_result"
    },
    {
     "data": {
      "image/png": "[encoded data removed]",
      "text/plain": [
       "<matplotlib.figure.Figure at 0x1d2002a1358>"
      ]
     },
     "metadata": {},
     "output_type": "display_data"
    }
   ],
   "source": [
    "plt.imshow(np.rot90(np.abs(eigenvector_W[3]).reshape(46, -1), k = -1))"
   ]
  },
  {
   "cell_type": "code",
   "execution_count": null,
   "metadata": {},
   "outputs": [],
   "source": []
  }
 ],
 "metadata": {
  "kernelspec": {
   "display_name": "Python 3",
   "language": "python",
   "name": "python3"
  },
  "language_info": {
   "codemirror_mode": {
    "name": "ipython",
    "version": 3
   },
   "file_extension": ".py",
   "mimetype": "text/x-python",
   "name": "python",
   "nbconvert_exporter": "python",
   "pygments_lexer": "ipython3",
   "version": "3.6.2"
  }
 },
 "nbformat": 4,
 "nbformat_minor": 2
}
